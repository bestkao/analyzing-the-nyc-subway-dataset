{
 "cells": [
  {
   "cell_type": "markdown",
   "metadata": {},
   "source": [
    "#Overview"
   ]
  },
  {
   "cell_type": "markdown",
   "metadata": {},
   "source": [
    "Today we're investigating how subway ridership is affected by incidence of rain. I've taken a sample of MTA New York City Subway dataset from May, 2011 containing hourly entries and exits to turnstiles (UNIT) by day in the subway system. Joined with this dataset is weather data from Weather Underground containing features such as barometric pressure, wind speed, temperature, the total amount of precipitation, and the indicidence of rain, fog, and thunder.\n",
    "\n",
    "The CSV is loaded into a Pandas dataframe named turnstile_master. Here's a preview of the first five rows:"
   ]
  },
  {
   "cell_type": "code",
   "execution_count": 1,
   "metadata": {
    "collapsed": false
   },
   "outputs": [
    {
     "data": {
      "text/html": [
       "<div>\n",
       "<table border=\"1\" class=\"dataframe\">\n",
       "  <thead>\n",
       "    <tr style=\"text-align: right;\">\n",
       "      <th></th>\n",
       "      <th>Unnamed: 0</th>\n",
       "      <th>UNIT</th>\n",
       "      <th>DATEn</th>\n",
       "      <th>TIMEn</th>\n",
       "      <th>Hour</th>\n",
       "      <th>DESCn</th>\n",
       "      <th>ENTRIESn_hourly</th>\n",
       "      <th>EXITSn_hourly</th>\n",
       "      <th>maxpressurei</th>\n",
       "      <th>maxdewpti</th>\n",
       "      <th>...</th>\n",
       "      <th>meandewpti</th>\n",
       "      <th>meanpressurei</th>\n",
       "      <th>fog</th>\n",
       "      <th>rain</th>\n",
       "      <th>meanwindspdi</th>\n",
       "      <th>mintempi</th>\n",
       "      <th>meantempi</th>\n",
       "      <th>maxtempi</th>\n",
       "      <th>precipi</th>\n",
       "      <th>thunder</th>\n",
       "    </tr>\n",
       "  </thead>\n",
       "  <tbody>\n",
       "    <tr>\n",
       "      <th>0</th>\n",
       "      <td>0</td>\n",
       "      <td>R001</td>\n",
       "      <td>2011-05-01</td>\n",
       "      <td>01:00:00</td>\n",
       "      <td>1</td>\n",
       "      <td>REGULAR</td>\n",
       "      <td>0</td>\n",
       "      <td>0</td>\n",
       "      <td>30.31</td>\n",
       "      <td>42</td>\n",
       "      <td>...</td>\n",
       "      <td>39</td>\n",
       "      <td>30.27</td>\n",
       "      <td>0</td>\n",
       "      <td>0</td>\n",
       "      <td>5</td>\n",
       "      <td>50</td>\n",
       "      <td>60</td>\n",
       "      <td>69</td>\n",
       "      <td>0</td>\n",
       "      <td>0</td>\n",
       "    </tr>\n",
       "    <tr>\n",
       "      <th>1</th>\n",
       "      <td>1</td>\n",
       "      <td>R001</td>\n",
       "      <td>2011-05-01</td>\n",
       "      <td>05:00:00</td>\n",
       "      <td>5</td>\n",
       "      <td>REGULAR</td>\n",
       "      <td>217</td>\n",
       "      <td>553</td>\n",
       "      <td>30.31</td>\n",
       "      <td>42</td>\n",
       "      <td>...</td>\n",
       "      <td>39</td>\n",
       "      <td>30.27</td>\n",
       "      <td>0</td>\n",
       "      <td>0</td>\n",
       "      <td>5</td>\n",
       "      <td>50</td>\n",
       "      <td>60</td>\n",
       "      <td>69</td>\n",
       "      <td>0</td>\n",
       "      <td>0</td>\n",
       "    </tr>\n",
       "    <tr>\n",
       "      <th>2</th>\n",
       "      <td>2</td>\n",
       "      <td>R001</td>\n",
       "      <td>2011-05-01</td>\n",
       "      <td>09:00:00</td>\n",
       "      <td>9</td>\n",
       "      <td>REGULAR</td>\n",
       "      <td>890</td>\n",
       "      <td>1262</td>\n",
       "      <td>30.31</td>\n",
       "      <td>42</td>\n",
       "      <td>...</td>\n",
       "      <td>39</td>\n",
       "      <td>30.27</td>\n",
       "      <td>0</td>\n",
       "      <td>0</td>\n",
       "      <td>5</td>\n",
       "      <td>50</td>\n",
       "      <td>60</td>\n",
       "      <td>69</td>\n",
       "      <td>0</td>\n",
       "      <td>0</td>\n",
       "    </tr>\n",
       "    <tr>\n",
       "      <th>3</th>\n",
       "      <td>3</td>\n",
       "      <td>R001</td>\n",
       "      <td>2011-05-01</td>\n",
       "      <td>13:00:00</td>\n",
       "      <td>13</td>\n",
       "      <td>REGULAR</td>\n",
       "      <td>2451</td>\n",
       "      <td>3708</td>\n",
       "      <td>30.31</td>\n",
       "      <td>42</td>\n",
       "      <td>...</td>\n",
       "      <td>39</td>\n",
       "      <td>30.27</td>\n",
       "      <td>0</td>\n",
       "      <td>0</td>\n",
       "      <td>5</td>\n",
       "      <td>50</td>\n",
       "      <td>60</td>\n",
       "      <td>69</td>\n",
       "      <td>0</td>\n",
       "      <td>0</td>\n",
       "    </tr>\n",
       "    <tr>\n",
       "      <th>4</th>\n",
       "      <td>4</td>\n",
       "      <td>R001</td>\n",
       "      <td>2011-05-01</td>\n",
       "      <td>17:00:00</td>\n",
       "      <td>17</td>\n",
       "      <td>REGULAR</td>\n",
       "      <td>4400</td>\n",
       "      <td>2501</td>\n",
       "      <td>30.31</td>\n",
       "      <td>42</td>\n",
       "      <td>...</td>\n",
       "      <td>39</td>\n",
       "      <td>30.27</td>\n",
       "      <td>0</td>\n",
       "      <td>0</td>\n",
       "      <td>5</td>\n",
       "      <td>50</td>\n",
       "      <td>60</td>\n",
       "      <td>69</td>\n",
       "      <td>0</td>\n",
       "      <td>0</td>\n",
       "    </tr>\n",
       "  </tbody>\n",
       "</table>\n",
       "<p>5 rows × 22 columns</p>\n",
       "</div>"
      ],
      "text/plain": [
       "   Unnamed: 0  UNIT       DATEn     TIMEn  Hour    DESCn  ENTRIESn_hourly  \\\n",
       "0           0  R001  2011-05-01  01:00:00     1  REGULAR                0   \n",
       "1           1  R001  2011-05-01  05:00:00     5  REGULAR              217   \n",
       "2           2  R001  2011-05-01  09:00:00     9  REGULAR              890   \n",
       "3           3  R001  2011-05-01  13:00:00    13  REGULAR             2451   \n",
       "4           4  R001  2011-05-01  17:00:00    17  REGULAR             4400   \n",
       "\n",
       "   EXITSn_hourly  maxpressurei  maxdewpti   ...     meandewpti  meanpressurei  \\\n",
       "0              0         30.31         42   ...             39          30.27   \n",
       "1            553         30.31         42   ...             39          30.27   \n",
       "2           1262         30.31         42   ...             39          30.27   \n",
       "3           3708         30.31         42   ...             39          30.27   \n",
       "4           2501         30.31         42   ...             39          30.27   \n",
       "\n",
       "   fog  rain  meanwindspdi  mintempi  meantempi  maxtempi  precipi  thunder  \n",
       "0    0     0             5        50         60        69        0        0  \n",
       "1    0     0             5        50         60        69        0        0  \n",
       "2    0     0             5        50         60        69        0        0  \n",
       "3    0     0             5        50         60        69        0        0  \n",
       "4    0     0             5        50         60        69        0        0  \n",
       "\n",
       "[5 rows x 22 columns]"
      ]
     },
     "execution_count": 1,
     "metadata": {},
     "output_type": "execute_result"
    }
   ],
   "source": [
    "%matplotlib inline\n",
    "import pandas as pd\n",
    "\n",
    "turnstile_master = pd.read_csv('turnstile_data_master_with_weather.csv')\n",
    "turnstile_master.head()"
   ]
  },
  {
   "cell_type": "markdown",
   "metadata": {},
   "source": [
    "#Section 1: Statistical Test"
   ]
  },
  {
   "cell_type": "markdown",
   "metadata": {
    "collapsed": true
   },
   "source": [
    "##1.1 Methodology\n",
    "I performed a Mann-Whitney U-test to find the U-statistic and p-value by comparing the number of turnstile entries with rain and without rain. A two-tail p-value was used with no assumptions made about the distributions of ridership on rainy and non-rainy days.\n",
    "\n",
    "The p-value returned by scipy.stats.mannwhitneyu is one-tailed as noted here:\n",
    "\n",
    "http://docs.scipy.org/doc/scipy/reference/generated/scipy.stats.mannwhitneyu.html\n",
    "\n",
    "To perform the two-tailed test, the one-tailed p-value returned by scipy.stats.mannwhitneyu is multiplied by 2.\n",
    "\n",
    "The p-critical value used in this test is 0.05 to test for significance (i.e. 5% chance of observing a result as least as extreme)."
   ]
  },
  {
   "cell_type": "markdown",
   "metadata": {},
   "source": [
    "##1.2 Applicability\n",
    "We're ultimately trying to determine whether subway ridership varies with weather. We start by split the hourly entries into two samples, entries with and without rain.\n",
    "\n",
    "The Mann-Whitney U-Test tests the null hypothesis that the two samples being compared are derived from the same population. This null hypothesis allows us to test whether there is a statistically significant difference in distributions of ridership on rainy and non-rainy days (and thus, the hourly entries derived from the same population).\n",
    "\n",
    "Exploratory data analysis (Section 3.1) indicates that the data is not normally distributed. The Mann-Whitney U-Test makes no assumptions about the normality of the data, validating that this test is appropriate."
   ]
  },
  {
   "cell_type": "markdown",
   "metadata": {},
   "source": [
    "##1.3 Results\n",
    "Here's what we got from the Mann-Whitney U-Test:"
   ]
  },
  {
   "cell_type": "code",
   "execution_count": 2,
   "metadata": {
    "collapsed": false
   },
   "outputs": [
    {
     "name": "stdout",
     "output_type": "stream",
     "text": [
      "Mean entries, with rain: 1105.44637675\n",
      "Mean entries, without rain: 1090.27878015\n"
     ]
    }
   ],
   "source": [
    "import numpy as np\n",
    "\n",
    "with_rain = turnstile_master[turnstile_master.rain == 1]['ENTRIESn_hourly']\n",
    "with_rain_mean = np.mean(with_rain)\n",
    "\n",
    "without_rain = turnstile_master[turnstile_master.rain == 0]['ENTRIESn_hourly']\n",
    "without_rain_mean = np.mean(without_rain)\n",
    "\n",
    "print \"Mean entries, with rain: {0}\\nMean entries, without rain: {1}\".format(with_rain_mean, without_rain_mean)"
   ]
  },
  {
   "cell_type": "code",
   "execution_count": 3,
   "metadata": {
    "collapsed": false
   },
   "outputs": [
    {
     "name": "stdout",
     "output_type": "stream",
     "text": [
      "Mann-Whitney Test Statistic: 1924409167.0\n",
      "p-Value: 0.0249999127935\n"
     ]
    }
   ],
   "source": [
    "import scipy\n",
    "import scipy.stats\n",
    "\n",
    "[U, p] = scipy.stats.mannwhitneyu(with_rain, without_rain)\n",
    "\n",
    "print \"Mann-Whitney Test Statistic: {0}\\np-Value: {1}\".format(U, p)"
   ]
  },
  {
   "cell_type": "markdown",
   "metadata": {},
   "source": [
    "##1.4 Significance"
   ]
  },
  {
   "cell_type": "code",
   "execution_count": 4,
   "metadata": {
    "collapsed": false
   },
   "outputs": [
    {
     "name": "stdout",
     "output_type": "stream",
     "text": [
      "Reject the null hypothesis: 0.049999825587 < 0.05\n"
     ]
    }
   ],
   "source": [
    "# Significance level defined in Section 1.1\n",
    "alpha = 0.05\n",
    "\n",
    "# two-tailed test\n",
    "if (p * 2) < alpha:\n",
    "    print 'Reject the null hypothesis: {0} < {1}'.format(p * 2, alpha)\n",
    "else:\n",
    "    print 'Fail to reject null hypothesis: {0} < {1}'.format(p * 2, alpha)"
   ]
  },
  {
   "cell_type": "markdown",
   "metadata": {},
   "source": [
    "The p-value barely didn't meet our two-tailed significance threshold of 5%, so we reject the null hypothesis of the Mann-Whitney U-Test. We conclude that the distribution of the entries is statistically different between rainy and non-rainy days."
   ]
  },
  {
   "cell_type": "markdown",
   "metadata": {},
   "source": [
    "#Section 2: Linear Regression"
   ]
  },
  {
   "cell_type": "markdown",
   "metadata": {},
   "source": [
    "##2.1 Predicting Ridership with Gradient Descent\n",
    "Linear Regression with Gradient Descent was performed using SciPy Ordinary Least Squares (OLS) is chosen to solve the linear regression model. The normal equation is implemented directly without the use of the Statsmodel package.\n",
    "\n",
    "Reference the Machine Learning course taught by Stanford’s Andrew Ng for more information on OLS and the normal equation:\n",
    "\n",
    "https://d396qusza40orc.cloudfront.net/ml/docs/slides/Lecture4.pptx"
   ]
  },
  {
   "cell_type": "markdown",
   "metadata": {},
   "source": [
    "##2.2 Feature Selection\n",
    "The following features are taken directly from the turnstile_master dataset:\n",
    "- rain\n",
    "- precipitation\n",
    "- hour\n",
    "- mean temperature"
   ]
  },
  {
   "cell_type": "code",
   "execution_count": 5,
   "metadata": {
    "collapsed": false
   },
   "outputs": [],
   "source": [
    "# Select Features\n",
    "features = turnstile_master[['rain', 'precipi', 'Hour', 'meantempi']]"
   ]
  },
  {
   "cell_type": "markdown",
   "metadata": {},
   "source": [
    "Dummy variables are used to include categorical data as features in a linear model. The dummy variables include:\n",
    "- UNIT - Taken directly from the turnstile_master dataset\n",
    "- weekday - The day of the week as an integer [0:6] (Monday = 0, https://docs.python.org/2/library/datetime.html#datetime.datetime.weekday)"
   ]
  },
  {
   "cell_type": "code",
   "execution_count": 6,
   "metadata": {
    "collapsed": false
   },
   "outputs": [],
   "source": [
    "# Add UNIT to features using dummy variables\n",
    "dummy_units = pd.get_dummies(turnstile_master['UNIT'], prefix='unit')\n",
    "features = features.join(dummy_units)"
   ]
  },
  {
   "cell_type": "markdown",
   "metadata": {},
   "source": [
    "##2.3 Feature Selection Rationale\n",
    "meantempi is chosen as a feature as temperature is a component of the weather that affects people’s decision making. A given temperature may affect how long and how much effort it takes to clothe in the morning. A person may simply choose to stay indoors due to discomfort with a given temperature.\n",
    "\n",
    "Hour and weekday features were chosen as it is easily observed how ridership varies with time of day and day of week. A phenomenon supporting the Hour feature is the daily rush hours that mass transit systems and roadways exhibit and accommodate. An observation supporting the use of weekday is how the MTA train schedule varies between weekdays and weekends, with trains arriving with more infrequency on Saturday and Sunday."
   ]
  },
  {
   "cell_type": "markdown",
   "metadata": {},
   "source": [
    "##2.4 Model Results"
   ]
  },
  {
   "cell_type": "markdown",
   "metadata": {},
   "source": [
    "Lets start by normalizing the features in the dataset."
   ]
  },
  {
   "cell_type": "code",
   "execution_count": 7,
   "metadata": {
    "collapsed": false
   },
   "outputs": [],
   "source": [
    "# Values\n",
    "values = turnstile_master['ENTRIESn_hourly']\n",
    "m = len(values)\n",
    "\n",
    "# Normalize the features in the dataset.\n",
    "mu = features.mean()\n",
    "sigma = features.std()\n",
    "\n",
    "if (sigma == 0).any():\n",
    "    raise Exception(\"One or more features had the same value for all samples, and thus could \" + \\\n",
    "                     \"not be normalized. Please do not include features with only a single value \" + \\\n",
    "                     \"in your model.\")\n",
    "features = (features - mu) / sigma\n",
    "\n",
    "# Add a column of 1s (y intercept)\n",
    "features['ones'] = np.ones(m)"
   ]
  },
  {
   "cell_type": "markdown",
   "metadata": {},
   "source": [
    "Prep features and output value arrays, alpha, theta, and num_iteration values for gradient descent.\n",
    "\n",
    "We set the intitial coefficient vector theta to a column vector of zeros. "
   ]
  },
  {
   "cell_type": "code",
   "execution_count": 8,
   "metadata": {
    "collapsed": true
   },
   "outputs": [],
   "source": [
    "# Convert features and values to numpy arrays\n",
    "features_array = np.array(features)\n",
    "values_array = np.array(values)\n",
    "\n",
    "# Set values for alpha, number of iterations.\n",
    "alpha = 0.1\n",
    "num_iterations = 75\n",
    "\n",
    "# Initialize theta for gradient descent\n",
    "theta_gradient_descent = np.zeros(len(features.columns))"
   ]
  },
  {
   "cell_type": "markdown",
   "metadata": {},
   "source": [
    "Finally perform gradient descent, building a cost history over time. During this process, the cost function recomputes the theta value for a given number of iterations as a numerical approach to approximating the ideal coefficients to fit the linear regression model."
   ]
  },
  {
   "cell_type": "code",
   "execution_count": 9,
   "metadata": {
    "collapsed": false
   },
   "outputs": [],
   "source": [
    "# Perform gradient descent given a data set with an arbitrary number of features.\n",
    "cost_history = []\n",
    "\n",
    "for i in range(num_iterations):\n",
    "    predicted_value = np.dot(features_array, theta_gradient_descent)\n",
    "    theta_gradient_descent = theta_gradient_descent + alpha/m * np.dot(values_array - predicted_value, features_array)\n",
    "\n",
    "    # Compute the cost function given a set of features / values, and the values for our thetas.\n",
    "    sum_of_square_errors = np.square(np.dot(features_array, theta_gradient_descent) - values_array).sum()\n",
    "    cost = sum_of_square_errors / (2 * m)\n",
    "    \n",
    "    # Add cost to history\n",
    "    cost_history.append(cost)\n",
    "    \n",
    "cost_history = pd.Series(cost_history)\n",
    "\n",
    "# Calculate predictions\n",
    "predictions = np.dot(features_array, theta_gradient_descent)"
   ]
  },
  {
   "cell_type": "markdown",
   "metadata": {},
   "source": [
    "Let's visualize this."
   ]
  },
  {
   "cell_type": "code",
   "execution_count": 11,
   "metadata": {
    "collapsed": false
   },
   "outputs": [
    {
     "data": {
      "image/png": "[encoded data removed]",
      "text/plain": [
       "<matplotlib.figure.Figure at 0x14b5d6090>"
      ]
     },
     "metadata": {},
     "output_type": "display_data"
    },
    {
     "data": {
      "text/plain": [
       "<ggplot: (347459321)>"
      ]
     },
     "execution_count": 11,
     "metadata": {},
     "output_type": "execute_result"
    }
   ],
   "source": [
    "from ggplot import *\n",
    "\n",
    "# Plot cost history for viewing.\n",
    "cost_df = pd.DataFrame({\n",
    "  'Cost_History': cost_history,\n",
    "  'Iteration': range(len(cost_history))\n",
    "})\n",
    "\n",
    "ggplot(cost_df, aes('Iteration', 'Cost_History')) + \\\n",
    "  geom_point() + ggtitle('Cost History for alpha = %.3f' % alpha )\n"
   ]
  },
  {
   "cell_type": "markdown",
   "metadata": {},
   "source": [
    "##2.5 Goodness of Fit\n",
    "After making predictions, use the coefficient of determination (R^2) to see how the model performed:"
   ]
  },
  {
   "cell_type": "code",
   "execution_count": 12,
   "metadata": {
    "collapsed": false
   },
   "outputs": [
    {
     "name": "stdout",
     "output_type": "stream",
     "text": [
      "Calculated R^2 value: 0.458044314039\n"
     ]
    }
   ],
   "source": [
    "# Compute the coefficient of determination (R^2) given\n",
    "# a list of original data points and a list of predicted data points\n",
    "sq_data_predictions_diff = np.sum((values - predictions)**2)\n",
    "mean = np.mean(values)\n",
    "sq_data_mean_diff = np.sum((values - mean)**2)\n",
    "\n",
    "r_squared = 1 - sq_data_predictions_diff / sq_data_mean_diff\n",
    "\n",
    "print \"Calculated R^2 value: {0}\".format(r_squared)"
   ]
  },
  {
   "cell_type": "markdown",
   "metadata": {},
   "source": [
    "This R^2 value is is rather low, indicating that linear regression model doesn't fit with the data too well. Perhaps linear models aren't the best models for this dataset since the histogram of hourly entries shows a more normal distribution. Thus, I would expect the R2 value to be low. Due to the categorical nature of data, ('rain', 'no rain') a linear model inappropriate."
   ]
  },
  {
   "cell_type": "markdown",
   "metadata": {
    "collapsed": true
   },
   "source": [
    "#Section 3. Visualization\n",
    "##3.1 Distribution of ENTRIESn_hourly"
   ]
  },
  {
   "cell_type": "code",
   "execution_count": 16,
   "metadata": {
    "collapsed": false
   },
   "outputs": [
    {
     "data": {
      "text/plain": [
       "<matplotlib.figure.Figure at 0x1029a7210>"
      ]
     },
     "execution_count": 16,
     "metadata": {},
     "output_type": "execute_result"
    },
    {
     "data": {
      "image/png": "[encoded data removed]",
      "text/plain": [
       "<matplotlib.figure.Figure at 0x108394750>"
      ]
     },
     "metadata": {},
     "output_type": "display_data"
    },
    {
     "data": {
      "text/plain": [
       "<matplotlib.figure.Figure at 0x1029a7210>"
      ]
     },
     "metadata": {},
     "output_type": "display_data"
    }
   ],
   "source": [
    "import matplotlib.pyplot as plt\n",
    "\n",
    "plt.figure()\n",
    "\n",
    "# your code here to plot a historgram for hourly entries when it is not raining\n",
    "non_rainy_data = turnstile_master[turnstile_master['rain'] == 0]['ENTRIESn_hourly']\n",
    "non_rainy_data.hist(range = [0, 6000], bins = 25, label='No Rain')\n",
    "\n",
    "# your code here to plot a historgram for hourly entries when it is raining\n",
    "rainy_data = turnstile_master[turnstile_master['rain'] == 1]['ENTRIESn_hourly']\n",
    "rainy_data.hist(range = [0, 6000], bins = 20, label='Rain')\n",
    "\n",
    "plt.title('Histogram of ENTRIESn_hourly')\n",
    "plt.xlabel('ENTRIESn_hourly')\n",
    "plt.ylabel('Frequency')\n",
    "plt.legend()\n",
    "\n",
    "plt.figure()"
   ]
  },
  {
   "cell_type": "markdown",
   "metadata": {},
   "source": [
    "The distribution of ENTRIESn_hourly appears to not be normally distributed and skewed to the right on both rainy and non-rainy days. The mode appears to be within the smallest bin for both distributions. There are far fewer observations on rainy days than non-rainy days."
   ]
  },
  {
   "cell_type": "markdown",
   "metadata": {},
   "source": [
    "##3.2 Average Hourly Ridership by Hour of Day"
   ]
  },
  {
   "cell_type": "code",
   "execution_count": 17,
   "metadata": {
    "collapsed": false
   },
   "outputs": [
    {
     "name": "stderr",
     "output_type": "stream",
     "text": [
      "/Users/James/anaconda/lib/python2.7/site-packages/pandasql/sqldf.py:38: SettingWithCopyWarning: \n",
      "A value is trying to be set on a copy of a slice from a DataFrame.\n",
      "Try using .loc[row_indexer,col_indexer] = value instead\n",
      "\n",
      "See the the caveats in the documentation: http://pandas.pydata.org/pandas-docs/stable/indexing.html#indexing-view-versus-copy\n",
      "  df[col] = df[col].astype(np.float)\n"
     ]
    },
    {
     "data": {
      "image/png": "[encoded data removed]",
      "text/plain": [
       "<matplotlib.figure.Figure at 0x14aa2c1d0>"
      ]
     },
     "metadata": {},
     "output_type": "display_data"
    },
    {
     "name": "stdout",
     "output_type": "stream",
     "text": [
      "<ggplot: (345838313)>\n"
     ]
    }
   ],
   "source": [
    "import pandasql\n",
    "\n",
    "df = turnstile_master[['Hour', 'ENTRIESn_hourly']]\n",
    "\n",
    "q = \"\"\"\n",
    "    SELECT Hour AS hour,\n",
    "           sum(ENTRIESn_hourly)/count(*) AS hourlyentries\n",
    "    FROM df\n",
    "    GROUP BY hour\n",
    "    \"\"\"\n",
    "\n",
    "#Execute SQL command against the pandas frame\n",
    "rainy_days = pandasql.sqldf(q.lower(), locals())\n",
    "\n",
    "print ggplot(rainy_days, aes('hour', 'hourlyentries')) + \\\n",
    "        geom_bar(fill = '#cc2127', stat='bar') + \\\n",
    "        scale_x_continuous(name=\"Hour\",\n",
    "                           breaks=[0, 1, 2, 3, 4, 5,\n",
    "                                   6, 7, 8, 9, 10, 11,\n",
    "                                   12, 13, 14, 15, 16, 17,\n",
    "                                   18, 19, 20, 21, 22, 23],\n",
    "                           labels=['12AM', '1AM', '2AM', '3AM', '4AM', '5AM',\n",
    "                                   '6AM', '7AM', '8AM', '9AM', '10AM', '11AM',\n",
    "                                   '12PM', '1PM', '2PM', '3PM', '4PM', '5PM',\n",
    "                                   '6PM', '7PM', '8PM', '9PM', '10PM', '11PM']) + \\\n",
    "        ggtitle(\"Average ENTRIESn_hourly by Hour\") + \\\n",
    "        ylab(\"ENTRIESn_hourly\")\n"
   ]
  },
  {
   "cell_type": "markdown",
   "metadata": {},
   "source": [
    "##3.3 Average Hourly Ridership by Day of Week"
   ]
  },
  {
   "cell_type": "code",
   "execution_count": 20,
   "metadata": {
    "collapsed": false
   },
   "outputs": [
    {
     "data": {
      "image/png": "[encoded data removed]",
      "text/plain": [
       "<matplotlib.figure.Figure at 0x12a89e2d0>"
      ]
     },
     "metadata": {},
     "output_type": "display_data"
    },
    {
     "name": "stdout",
     "output_type": "stream",
     "text": [
      "<ggplot: (350316977)>\n"
     ]
    }
   ],
   "source": [
    "df = turnstile_master[['DATEn', 'ENTRIESn_hourly']]\n",
    "\n",
    "q = \"\"\"\n",
    "    SELECT cast(strftime('%w', DATEn) AS integer) AS weekday,\n",
    "           sum(ENTRIESn_hourly)/count(*) AS hourlyentries\n",
    "    FROM df\n",
    "    GROUP BY cast(strftime('%w', DATEn) AS integer)\n",
    "    \"\"\"\n",
    "\n",
    "#Execute SQL command against the pandas frame\n",
    "rainy_days = pandasql.sqldf(q.lower(), locals())\n",
    "\n",
    "print ggplot(rainy_days, aes('weekday', 'hourlyentries')) + \\\n",
    "        geom_bar(fill = '#007ee5', stat='bar') + \\\n",
    "        scale_x_continuous(name=\"Weekday\",\n",
    "                            breaks=[0, 1, 2, 3, 4, 5, 6],\n",
    "                            labels=[\"Sunday\", \"Monday\", \"Tuesday\", \"Wednesday\",\n",
    "                                    \"Thursday\", \"Friday\", \"Saturday\"]) + \\\n",
    "        ggtitle(\"Average ENTRIESn_hourly by Weekday\") + \\\n",
    "        ylab(\"ENTRIESn_hourly\")"
   ]
  },
  {
   "cell_type": "markdown",
   "metadata": {},
   "source": [
    "The above bar chart shows the average hourly ridership by day of week. The sum of ENTRIESn_hourly by day of week was divided by the count of rows for a given day of week (as each row represents an hour’s worth of data). The bar chart shows that the average hourly ridership is higher on weekdays than weekends, with Saturday seeing significantly higher ridership than Sunday. It appears that the average hourly ridership on Monday is significantly different than the rest of the weekdays. This may be due to a seasonal effect of Monday holidays. The given data set is a sample from May 2011. There is at least one major holiday that falls on Monday in the month of May: Memorial Day."
   ]
  },
  {
   "cell_type": "code",
   "execution_count": null,
   "metadata": {
    "collapsed": true
   },
   "outputs": [],
   "source": []
  }
 ],
 "metadata": {
  "kernelspec": {
   "display_name": "Python 2",
   "language": "python",
   "name": "python2"
  },
  "language_info": {
   "codemirror_mode": {
    "name": "ipython",
    "version": 2
   },
   "file_extension": ".py",
   "mimetype": "text/x-python",
   "name": "python",
   "nbconvert_exporter": "python",
   "pygments_lexer": "ipython2",
   "version": "2.7.10"
  }
 },
 "nbformat": 4,
 "nbformat_minor": 0
}
